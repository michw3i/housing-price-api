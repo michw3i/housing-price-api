{
 "cells": [
  {
   "cell_type": "code",
   "execution_count": 1,
   "id": "3509ba96-2157-42e0-ad6f-db72d749a4ba",
   "metadata": {},
   "outputs": [
    {
     "name": "stdout",
     "output_type": "stream",
     "text": [
      "X shape:  (1460, 235)\n",
      "y shape:  (1460,)\n"
     ]
    }
   ],
   "source": [
    "import pandas as pd\n",
    "X = pd.read_csv(\"../data/X_train.csv\")\n",
    "y = pd.read_csv(\"../data/y_train.csv\").iloc[:, 0 ] #convert single column DataFrame to Series\n",
    "print(\"X shape: \", X.shape)\n",
    "print(\"y shape: \", y.shape)"
   ]
  },
  {
   "cell_type": "code",
   "execution_count": 2,
   "id": "b7e3f0d8-7829-445c-a551-e77b31e44b90",
   "metadata": {},
   "outputs": [
    {
     "name": "stdout",
     "output_type": "stream",
     "text": [
      "Baseline LinearRegression trained.\n"
     ]
    }
   ],
   "source": [
    "#Train baseline Linear Regression\n",
    "from sklearn.linear_model import LinearRegression\n",
    "lr = LinearRegression()\n",
    "lr.fit(X,y)\n",
    "print(\"Baseline LinearRegression trained.\")"
   ]
  },
  {
   "cell_type": "code",
   "execution_count": 4,
   "id": "0508abfd-9b6a-4f95-bf6c-a9241e42beb9",
   "metadata": {},
   "outputs": [
    {
     "name": "stdout",
     "output_type": "stream",
     "text": [
      "LinearRegression -> MAE: 13436.43, RSME: 20902.25\n"
     ]
    }
   ],
   "source": [
    "#Evaluate using MAE and RMSE\n",
    "from sklearn.metrics import mean_absolute_error, mean_squared_error\n",
    "import numpy as np\n",
    "\n",
    "preds_lr = lr.predict(X)\n",
    "mae_lr = mean_absolute_error(y, preds_lr)\n",
    "rmse_lr = np.sqrt(mean_squared_error(y, preds_lr))\n",
    "print(f\"LinearRegression -> MAE: {mae_lr:.2f}, RSME: {rmse_lr:.2f}\")"
   ]
  },
  {
   "cell_type": "code",
   "execution_count": 5,
   "id": "a986965c-86b5-4b78-a39d-0f0a9aab46e7",
   "metadata": {},
   "outputs": [
    {
     "name": "stdout",
     "output_type": "stream",
     "text": [
      "RandomForestRegressor trained.\n"
     ]
    }
   ],
   "source": [
    "from sklearn.ensemble import RandomForestRegressor\n",
    "\n",
    "rf = RandomForestRegressor(\n",
    "    n_estimators = 100,\n",
    "    max_depth = 10,\n",
    "    random_state = 42,\n",
    "    n_jobs = -1\n",
    ")\n",
    "rf.fit(X,y)\n",
    "print(\"RandomForestRegressor trained.\")"
   ]
  },
  {
   "cell_type": "code",
   "execution_count": 8,
   "id": "b50a6431-d8b5-4080-a51c-2e011201dcf2",
   "metadata": {},
   "outputs": [
    {
     "name": "stdout",
     "output_type": "stream",
     "text": [
      "RandomForest -> MAE: 8087.29, RSME: 12391.50\n",
      "\n",
      "Comparison:\n",
      " LinearRegression MAE: 13436.43, RSME: 20902.25\n",
      " RandomForest MAE: 8087.29, RMSE: 12391.50\n"
     ]
    }
   ],
   "source": [
    "#Evaluating RandomForest\n",
    "\n",
    "preds_rf = rf.predict(X)\n",
    "mae_rf = mean_absolute_error(y, preds_rf)\n",
    "rmse_rf = np.sqrt(mean_squared_error(y, preds_rf))\n",
    "\n",
    "print(f\"RandomForest -> MAE: {mae_rf:.2f}, RSME: {rmse_rf:.2f}\")\n",
    "print(\"\\nComparison:\")\n",
    "print(f\" LinearRegression MAE: {mae_lr:.2f}, RSME: {rmse_lr:.2f}\")\n",
    "print(f\" RandomForest MAE: {mae_rf:.2f}, RMSE: {rmse_rf:.2f}\")\n"
   ]
  },
  {
   "cell_type": "code",
   "execution_count": 9,
   "id": "7930b94a-4c1b-46cc-84c3-86587f4c4cad",
   "metadata": {},
   "outputs": [
    {
     "ename": "FileNotFoundError",
     "evalue": "[Errno 2] No such file or directory: 'models/best_model.pkl'",
     "output_type": "error",
     "traceback": [
      "\u001b[31m---------------------------------------------------------------------------\u001b[39m",
      "\u001b[31mFileNotFoundError\u001b[39m                         Traceback (most recent call last)",
      "\u001b[36mCell\u001b[39m\u001b[36m \u001b[39m\u001b[32mIn[9]\u001b[39m\u001b[32m, line 4\u001b[39m\n\u001b[32m      1\u001b[39m \u001b[38;5;28;01mimport\u001b[39;00m\u001b[38;5;250m \u001b[39m\u001b[34;01mjoblib\u001b[39;00m\n\u001b[32m      3\u001b[39m best_model = rf\n\u001b[32m----> \u001b[39m\u001b[32m4\u001b[39m \u001b[43mjoblib\u001b[49m\u001b[43m.\u001b[49m\u001b[43mdump\u001b[49m\u001b[43m(\u001b[49m\u001b[43mbest_model\u001b[49m\u001b[43m,\u001b[49m\u001b[43m \u001b[49m\u001b[33;43m\"\u001b[39;49m\u001b[33;43mmodels/best_model.pkl\u001b[39;49m\u001b[33;43m\"\u001b[39;49m\u001b[43m)\u001b[49m\n\u001b[32m      5\u001b[39m \u001b[38;5;28mprint\u001b[39m(\u001b[33m\"\u001b[39m\u001b[33mSaved best_model.pkl\u001b[39m\u001b[33m\"\u001b[39m)\n",
      "\u001b[36mFile \u001b[39m\u001b[32m~/Documents/projects/housing-price-api/venv/lib/python3.13/site-packages/joblib/numpy_pickle.py:599\u001b[39m, in \u001b[36mdump\u001b[39m\u001b[34m(value, filename, compress, protocol)\u001b[39m\n\u001b[32m    597\u001b[39m         NumpyPickler(f, protocol=protocol).dump(value)\n\u001b[32m    598\u001b[39m \u001b[38;5;28;01melif\u001b[39;00m is_filename:\n\u001b[32m--> \u001b[39m\u001b[32m599\u001b[39m     \u001b[38;5;28;01mwith\u001b[39;00m \u001b[38;5;28;43mopen\u001b[39;49m\u001b[43m(\u001b[49m\u001b[43mfilename\u001b[49m\u001b[43m,\u001b[49m\u001b[43m \u001b[49m\u001b[33;43m\"\u001b[39;49m\u001b[33;43mwb\u001b[39;49m\u001b[33;43m\"\u001b[39;49m\u001b[43m)\u001b[49m \u001b[38;5;28;01mas\u001b[39;00m f:\n\u001b[32m    600\u001b[39m         NumpyPickler(f, protocol=protocol).dump(value)\n\u001b[32m    601\u001b[39m \u001b[38;5;28;01melse\u001b[39;00m:\n",
      "\u001b[31mFileNotFoundError\u001b[39m: [Errno 2] No such file or directory: 'models/best_model.pkl'"
     ]
    }
   ],
   "source": [
    "import joblib\n",
    "\n",
    "best_model = rf\n",
    "joblib.dump(best_model, \"models/best_model.pkl\")\n",
    "print(\"Saved best_model.pkl\")"
   ]
  },
  {
   "cell_type": "code",
   "execution_count": null,
   "id": "819e5e8d-e399-46a2-a295-e2c3a62bd189",
   "metadata": {},
   "outputs": [],
   "source": []
  }
 ],
 "metadata": {
  "kernelspec": {
   "display_name": "Python 3 (ipykernel)",
   "language": "python",
   "name": "python3"
  },
  "language_info": {
   "codemirror_mode": {
    "name": "ipython",
    "version": 3
   },
   "file_extension": ".py",
   "mimetype": "text/x-python",
   "name": "python",
   "nbconvert_exporter": "python",
   "pygments_lexer": "ipython3",
   "version": "3.13.2"
  }
 },
 "nbformat": 4,
 "nbformat_minor": 5
}
