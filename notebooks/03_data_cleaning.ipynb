{
 "cells": [
  {
   "cell_type": "code",
   "execution_count": 3,
   "id": "5efe2258-abdd-4ff2-b87a-f62ce76cc9f1",
   "metadata": {},
   "outputs": [
    {
     "data": {
      "text/plain": [
       "(1460, 81)"
      ]
     },
     "execution_count": 3,
     "metadata": {},
     "output_type": "execute_result"
    }
   ],
   "source": [
    "import pandas as pd\n",
    "\n",
    "#Load raw training data into a DataFrame\n",
    "\n",
    "df = pd.read_csv(\"../data/train.csv\")\n",
    "df.shape"
   ]
  },
  {
   "cell_type": "code",
   "execution_count": 4,
   "id": "2f123ed3-4eda-4244-b36c-2178833cd425",
   "metadata": {},
   "outputs": [
    {
     "data": {
      "text/plain": [
       "PoolQC         1453\n",
       "MiscFeature    1406\n",
       "Alley          1369\n",
       "Fence          1179\n",
       "MasVnrType      872\n",
       "FireplaceQu     690\n",
       "LotFrontage     259\n",
       "GarageYrBlt      81\n",
       "GarageCond       81\n",
       "GarageType       81\n",
       "dtype: int64"
      ]
     },
     "execution_count": 4,
     "metadata": {},
     "output_type": "execute_result"
    }
   ],
   "source": [
    "#Count missing values per column, sorted descending\n",
    "missing_counts = df.isnull().sum().sort_values(ascending = False)\n",
    "missing_counts.head(10)"
   ]
  },
  {
   "cell_type": "code",
   "execution_count": 5,
   "id": "e849b5ed-5c8c-4236-a89c-e679237ff018",
   "metadata": {},
   "outputs": [
    {
     "name": "stdout",
     "output_type": "stream",
     "text": [
      "Dropping:  ['PoolQC', 'MiscFeature', 'Alley', 'Fence', 'MasVnrType']\n"
     ]
    },
    {
     "data": {
      "text/plain": [
       "(1460, 76)"
      ]
     },
     "execution_count": 5,
     "metadata": {},
     "output_type": "execute_result"
    }
   ],
   "source": [
    "#Drop columns where >50% of values are missing\n",
    "thresh = len(df) * 0.5\n",
    "cols_to_drop = missing_counts[missing_counts > thresh].index.tolist()\n",
    "print(\"Dropping: \", cols_to_drop)\n",
    "df = df.drop(columns=cols_to_drop)\n",
    "df.shape"
   ]
  },
  {
   "cell_type": "code",
   "execution_count": 26,
   "id": "35c0f2f0-ab9e-4311-afea-8382ea5dbc73",
   "metadata": {},
   "outputs": [
    {
     "name": "stdout",
     "output_type": "stream",
     "text": [
      "Null counts by column:\n",
      "Id               0\n",
      "MSSubClass       0\n",
      "MSZoning         0\n",
      "LotFrontage      0\n",
      "LotArea          0\n",
      "                ..\n",
      "MoSold           0\n",
      "YrSold           0\n",
      "SaleType         0\n",
      "SaleCondition    0\n",
      "SalePrice        0\n",
      "Length: 76, dtype: int64\n"
     ]
    }
   ],
   "source": [
    "#Impute numeric columns with their median\n",
    "num_cols = df.select_dtypes(include=\"number\").columns\n",
    "for col in num_cols:\n",
    "    if df[col].isnull().sum():\n",
    "        median_val = df[col].median()\n",
    "        df[col] = df[col].fillna(median_val)\n",
    "        print(f\"Filled NA in {col} with median = {median_val}\")"
   ]
  },
  {
   "cell_type": "code",
   "execution_count": 17,
   "id": "e83bc171-9b0b-4d54-a487-13379ebc1d4b",
   "metadata": {},
   "outputs": [
    {
     "name": "stdout",
     "output_type": "stream",
     "text": [
      "Filled NA in BsmtQual with mode = 0    TA\n",
      "Name: BsmtQual, dtype: object\n",
      "Filled NA in BsmtCond with mode = 0    TA\n",
      "Name: BsmtCond, dtype: object\n",
      "Filled NA in BsmtExposure with mode = 0    No\n",
      "Name: BsmtExposure, dtype: object\n",
      "Filled NA in BsmtFinType1 with mode = 0    Unf\n",
      "Name: BsmtFinType1, dtype: object\n",
      "Filled NA in BsmtFinType2 with mode = 0    Unf\n",
      "Name: BsmtFinType2, dtype: object\n",
      "Filled NA in Electrical with mode = 0    SBrkr\n",
      "Name: Electrical, dtype: object\n",
      "Filled NA in FireplaceQu with mode = 0    Gd\n",
      "Name: FireplaceQu, dtype: object\n",
      "Filled NA in GarageType with mode = 0    Attchd\n",
      "Name: GarageType, dtype: object\n",
      "Filled NA in GarageFinish with mode = 0    Unf\n",
      "Name: GarageFinish, dtype: object\n",
      "Filled NA in GarageQual with mode = 0    TA\n",
      "Name: GarageQual, dtype: object\n",
      "Filled NA in GarageCond with mode = 0    TA\n",
      "Name: GarageCond, dtype: object\n"
     ]
    }
   ],
   "source": [
    "#Impute categorical columns with their mode\n",
    "cat_cols = df.select_dtypes(include = \"object\").columns\n",
    "for col in cat_cols:\n",
    "    if df[col].isnull().any():\n",
    "        mode_val = df[col].mode()\n",
    "        df[col] = df[col].fillna(mode_val)\n",
    "        print(f\"Filled NA in {col} with mode = {mode_val}\")"
   ]
  },
  {
   "cell_type": "code",
   "execution_count": null,
   "id": "5e4bccf7-801c-427b-99d6-953326ef2616",
   "metadata": {},
   "outputs": [],
   "source": [
    "#Save cleaned df to CSV for future use\n",
    "df.to_csv(\"data/processed_train.csv\", index = False)"
   ]
  }
 ],
 "metadata": {
  "kernelspec": {
   "display_name": "Python 3 (ipykernel)",
   "language": "python",
   "name": "python3"
  },
  "language_info": {
   "codemirror_mode": {
    "name": "ipython",
    "version": 3
   },
   "file_extension": ".py",
   "mimetype": "text/x-python",
   "name": "python",
   "nbconvert_exporter": "python",
   "pygments_lexer": "ipython3",
   "version": "3.13.2"
  }
 },
 "nbformat": 4,
 "nbformat_minor": 5
}
